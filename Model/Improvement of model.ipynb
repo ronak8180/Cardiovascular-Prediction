{
 "cells": [
  {
   "cell_type": "code",
   "execution_count": 1,
   "id": "11f66cc5-492c-47b7-9b38-99c83319f1b1",
   "metadata": {},
   "outputs": [
    {
     "name": "stdout",
     "output_type": "stream",
     "text": [
      "Requirement already satisfied: imblearn in /opt/anaconda3/lib/python3.12/site-packages (0.0)\n",
      "Requirement already satisfied: imbalanced-learn in /opt/anaconda3/lib/python3.12/site-packages (from imblearn) (0.11.0)\n",
      "Requirement already satisfied: numpy>=1.17.3 in /opt/anaconda3/lib/python3.12/site-packages (from imbalanced-learn->imblearn) (1.26.4)\n",
      "Requirement already satisfied: scipy>=1.5.0 in /opt/anaconda3/lib/python3.12/site-packages (from imbalanced-learn->imblearn) (1.13.1)\n",
      "Requirement already satisfied: scikit-learn>=1.0.2 in /opt/anaconda3/lib/python3.12/site-packages (from imbalanced-learn->imblearn) (1.3.2)\n",
      "Requirement already satisfied: joblib>=1.1.1 in /opt/anaconda3/lib/python3.12/site-packages (from imbalanced-learn->imblearn) (1.4.2)\n",
      "Requirement already satisfied: threadpoolctl>=2.0.0 in /opt/anaconda3/lib/python3.12/site-packages (from imbalanced-learn->imblearn) (3.5.0)\n"
     ]
    }
   ],
   "source": [
    "import pandas as pd\n",
    "!pip install imblearn"
   ]
  },
  {
   "cell_type": "code",
   "execution_count": 2,
   "id": "51f49287-0da4-4e13-94f9-6338692f434c",
   "metadata": {},
   "outputs": [],
   "source": [
    "heart=pd.read_csv(\"/Users/ronak/Library/Containers/com.microsoft.Excel/Data/Downloads/CVD_cleaned 4.csv\")\n"
   ]
  },
  {
   "cell_type": "code",
   "execution_count": 3,
   "id": "a159662e-3709-4cc1-ba0f-a235c97fede4",
   "metadata": {},
   "outputs": [
    {
     "data": {
      "text/html": [
       "<div>\n",
       "<style scoped>\n",
       "    .dataframe tbody tr th:only-of-type {\n",
       "        vertical-align: middle;\n",
       "    }\n",
       "\n",
       "    .dataframe tbody tr th {\n",
       "        vertical-align: top;\n",
       "    }\n",
       "\n",
       "    .dataframe thead th {\n",
       "        text-align: right;\n",
       "    }\n",
       "</style>\n",
       "<table border=\"1\" class=\"dataframe\">\n",
       "  <thead>\n",
       "    <tr style=\"text-align: right;\">\n",
       "      <th></th>\n",
       "      <th>General_Health</th>\n",
       "      <th>Checkup</th>\n",
       "      <th>Exercise</th>\n",
       "      <th>Heart_Disease</th>\n",
       "      <th>Skin_Cancer</th>\n",
       "      <th>Other_Cancer</th>\n",
       "      <th>Depression</th>\n",
       "      <th>Diabetes</th>\n",
       "      <th>Arthritis</th>\n",
       "      <th>Sex</th>\n",
       "      <th>Age_Category</th>\n",
       "      <th>Height_(cm)</th>\n",
       "      <th>Weight_(kg)</th>\n",
       "      <th>BMI</th>\n",
       "      <th>Smoking_History</th>\n",
       "      <th>Alcohol_Consumption</th>\n",
       "      <th>Fruit_Consumption</th>\n",
       "      <th>Green_Vegetables_Consumption</th>\n",
       "      <th>FriedPotato_Consumption</th>\n",
       "    </tr>\n",
       "  </thead>\n",
       "  <tbody>\n",
       "    <tr>\n",
       "      <th>0</th>\n",
       "      <td>Poor</td>\n",
       "      <td>Within the past 2 years</td>\n",
       "      <td>No</td>\n",
       "      <td>No</td>\n",
       "      <td>No</td>\n",
       "      <td>No</td>\n",
       "      <td>No</td>\n",
       "      <td>No</td>\n",
       "      <td>Yes</td>\n",
       "      <td>Female</td>\n",
       "      <td>70-74</td>\n",
       "      <td>150</td>\n",
       "      <td>32.66</td>\n",
       "      <td>14.54</td>\n",
       "      <td>Yes</td>\n",
       "      <td>0</td>\n",
       "      <td>30</td>\n",
       "      <td>16</td>\n",
       "      <td>12</td>\n",
       "    </tr>\n",
       "    <tr>\n",
       "      <th>1</th>\n",
       "      <td>Very Good</td>\n",
       "      <td>Within the past year</td>\n",
       "      <td>No</td>\n",
       "      <td>Yes</td>\n",
       "      <td>No</td>\n",
       "      <td>No</td>\n",
       "      <td>No</td>\n",
       "      <td>Yes</td>\n",
       "      <td>No</td>\n",
       "      <td>Female</td>\n",
       "      <td>70-74</td>\n",
       "      <td>165</td>\n",
       "      <td>77.11</td>\n",
       "      <td>28.29</td>\n",
       "      <td>No</td>\n",
       "      <td>0</td>\n",
       "      <td>30</td>\n",
       "      <td>0</td>\n",
       "      <td>4</td>\n",
       "    </tr>\n",
       "    <tr>\n",
       "      <th>2</th>\n",
       "      <td>Very Good</td>\n",
       "      <td>Within the past year</td>\n",
       "      <td>Yes</td>\n",
       "      <td>No</td>\n",
       "      <td>No</td>\n",
       "      <td>No</td>\n",
       "      <td>No</td>\n",
       "      <td>Yes</td>\n",
       "      <td>No</td>\n",
       "      <td>Female</td>\n",
       "      <td>60-64</td>\n",
       "      <td>163</td>\n",
       "      <td>88.45</td>\n",
       "      <td>33.47</td>\n",
       "      <td>No</td>\n",
       "      <td>4</td>\n",
       "      <td>12</td>\n",
       "      <td>3</td>\n",
       "      <td>16</td>\n",
       "    </tr>\n",
       "    <tr>\n",
       "      <th>3</th>\n",
       "      <td>Poor</td>\n",
       "      <td>Within the past year</td>\n",
       "      <td>Yes</td>\n",
       "      <td>Yes</td>\n",
       "      <td>No</td>\n",
       "      <td>No</td>\n",
       "      <td>No</td>\n",
       "      <td>Yes</td>\n",
       "      <td>No</td>\n",
       "      <td>Male</td>\n",
       "      <td>75-79</td>\n",
       "      <td>180</td>\n",
       "      <td>93.44</td>\n",
       "      <td>28.73</td>\n",
       "      <td>No</td>\n",
       "      <td>0</td>\n",
       "      <td>30</td>\n",
       "      <td>30</td>\n",
       "      <td>8</td>\n",
       "    </tr>\n",
       "    <tr>\n",
       "      <th>4</th>\n",
       "      <td>Good</td>\n",
       "      <td>Within the past year</td>\n",
       "      <td>No</td>\n",
       "      <td>No</td>\n",
       "      <td>No</td>\n",
       "      <td>No</td>\n",
       "      <td>No</td>\n",
       "      <td>No</td>\n",
       "      <td>No</td>\n",
       "      <td>Male</td>\n",
       "      <td>80+</td>\n",
       "      <td>191</td>\n",
       "      <td>88.45</td>\n",
       "      <td>24.37</td>\n",
       "      <td>Yes</td>\n",
       "      <td>0</td>\n",
       "      <td>8</td>\n",
       "      <td>4</td>\n",
       "      <td>0</td>\n",
       "    </tr>\n",
       "  </tbody>\n",
       "</table>\n",
       "</div>"
      ],
      "text/plain": [
       "  General_Health                  Checkup Exercise Heart_Disease Skin_Cancer  \\\n",
       "0           Poor  Within the past 2 years       No            No          No   \n",
       "1      Very Good     Within the past year       No           Yes          No   \n",
       "2      Very Good     Within the past year      Yes            No          No   \n",
       "3           Poor     Within the past year      Yes           Yes          No   \n",
       "4           Good     Within the past year       No            No          No   \n",
       "\n",
       "  Other_Cancer Depression Diabetes Arthritis     Sex Age_Category  \\\n",
       "0           No         No       No       Yes  Female        70-74   \n",
       "1           No         No      Yes        No  Female        70-74   \n",
       "2           No         No      Yes        No  Female        60-64   \n",
       "3           No         No      Yes        No    Male        75-79   \n",
       "4           No         No       No        No    Male          80+   \n",
       "\n",
       "   Height_(cm)  Weight_(kg)    BMI Smoking_History  Alcohol_Consumption  \\\n",
       "0          150        32.66  14.54             Yes                    0   \n",
       "1          165        77.11  28.29              No                    0   \n",
       "2          163        88.45  33.47              No                    4   \n",
       "3          180        93.44  28.73              No                    0   \n",
       "4          191        88.45  24.37             Yes                    0   \n",
       "\n",
       "   Fruit_Consumption  Green_Vegetables_Consumption  FriedPotato_Consumption  \n",
       "0                 30                            16                       12  \n",
       "1                 30                             0                        4  \n",
       "2                 12                             3                       16  \n",
       "3                 30                            30                        8  \n",
       "4                  8                             4                        0  "
      ]
     },
     "execution_count": 3,
     "metadata": {},
     "output_type": "execute_result"
    }
   ],
   "source": [
    "heart.head()"
   ]
  },
  {
   "cell_type": "code",
   "execution_count": 4,
   "id": "05d6e4fa-f484-4399-9d6b-edf961a086c4",
   "metadata": {},
   "outputs": [
    {
     "data": {
      "text/plain": [
       "(308854, 19)"
      ]
     },
     "execution_count": 4,
     "metadata": {},
     "output_type": "execute_result"
    }
   ],
   "source": [
    "heart.shape"
   ]
  },
  {
   "cell_type": "code",
   "execution_count": 5,
   "id": "416cf468-2c05-4c81-b026-9220535085ae",
   "metadata": {},
   "outputs": [
    {
     "data": {
      "text/plain": [
       "Heart_Disease\n",
       "No     283883\n",
       "Yes     24971\n",
       "Name: count, dtype: int64"
      ]
     },
     "execution_count": 5,
     "metadata": {},
     "output_type": "execute_result"
    }
   ],
   "source": [
    "heart[\"Heart_Disease\"].value_counts()"
   ]
  },
  {
   "cell_type": "code",
   "execution_count": 6,
   "id": "f21dcd27-ed18-4e2d-8e29-15eed0cadf49",
   "metadata": {},
   "outputs": [],
   "source": [
    "# Convering the column names into lower case and replacing the space with an underscore\n",
    "heart.columns = heart.columns.str.lower().str.replace(\" \", \"_\")\n",
    "\n",
    "#Changing the name of a big column\n",
    "\n",
    "heart.rename(columns = {'height_(cm)' : 'height', 'weight_(kg)' : 'weight', 'green_vegetables_consumption' : 'vegetables_consumption', 'friedpotato_consumption' : 'potato_consumption'}, inplace = True)"
   ]
  },
  {
   "cell_type": "code",
   "execution_count": 7,
   "id": "e32d36e6-ccec-4824-99bc-852bf111fde6",
   "metadata": {},
   "outputs": [],
   "source": [
    "heart['checkup'] = heart['checkup'].replace('Within the past 2 years', 'Past 2 years')\n",
    "heart['checkup'] = heart['checkup'].replace('Within the past year', 'Past 1 year')\n",
    "heart['checkup'] = heart['checkup'].replace('Within the past 5 years', 'Past 5 years')\n",
    "heart['checkup'] = heart['checkup'].replace('5 or more years ago', 'More than 5 years')\n",
    "\n",
    "\n",
    "heart['diabetes'] = heart['diabetes'].replace('No, pre-diabetes or borderline diabetes', 'No Pre Diabetes')\n",
    "heart['diabetes'] = heart['diabetes'].replace('Yes, but female told only during pregnancy', 'Only during pregnancy')\n",
    "\n",
    "heart['age_category'] = heart['age_category'].replace('18-24', 'Young')\n",
    "heart['age_category'] = heart['age_category'].replace('25-29', 'Adult')\n",
    "heart['age_category'] = heart['age_category'].replace('30-34', 'Adult')\n",
    "heart['age_category'] = heart['age_category'].replace('35-39', 'Adult')\n",
    "heart['age_category'] = heart['age_category'].replace('40-44', 'Mid-Aged')\n",
    "heart['age_category'] = heart['age_category'].replace('45-49', 'Mid-Aged')\n",
    "heart['age_category'] = heart['age_category'].replace('50-54', 'Mid-Aged')\n",
    "heart['age_category'] = heart['age_category'].replace('55-59', 'Senior-Adult')\n",
    "heart['age_category'] = heart['age_category'].replace('60-64', 'Senior-Adult')\n",
    "heart['age_category'] = heart['age_category'].replace('65-69', 'Elderly')\n",
    "heart['age_category'] = heart['age_category'].replace('70-74', 'Elderly')\n",
    "heart['age_category'] = heart['age_category'].replace('75-79', 'Elderly')\n",
    "heart['age_category'] = heart['age_category'].replace('80+', 'Elderly')"
   ]
  },
  {
   "cell_type": "code",
   "execution_count": 8,
   "id": "a676cae8-866f-4b40-a495-73c600b8ffb3",
   "metadata": {},
   "outputs": [],
   "source": [
    "col = ['alcohol_consumption', 'fruit_consumption', 'vegetables_consumption', 'potato_consumption']\n",
    "\n",
    "for i in col:\n",
    "    heart[i] = heart[i].astype(int)"
   ]
  },
  {
   "cell_type": "code",
   "execution_count": 9,
   "id": "b55f1abb-9a49-47fd-a060-e6cec5edea19",
   "metadata": {},
   "outputs": [],
   "source": [
    "# Define BMI ranges and labels for each group\n",
    "bmi_bins = [12.02, 18.3, 26.85, 31.58, 37.8, 100]\n",
    "bmi_labels = ['Underweight', 'Normal weight', 'Overweight', 'Obese I', 'Obese II']\n",
    "heart['bmi_group'] = pd.cut(heart['bmi'], bins=bmi_bins, labels=bmi_labels, right=False)"
   ]
  },
  {
   "cell_type": "code",
   "execution_count": 10,
   "id": "60498f9e-9297-4190-936e-374177c64124",
   "metadata": {},
   "outputs": [],
   "source": [
    "column_to_move = heart.pop('bmi_group')\n",
    "heart.insert(14, 'bmi_group', column_to_move)"
   ]
  },
  {
   "cell_type": "code",
   "execution_count": 11,
   "id": "ef476882-d6f0-4125-8a93-f7ec302427d9",
   "metadata": {},
   "outputs": [],
   "source": [
    "heart['bmi_group'] = heart['bmi_group'].astype('object')"
   ]
  },
  {
   "cell_type": "code",
   "execution_count": 12,
   "id": "cda230b9-583e-467e-ad0f-af26ca0919d8",
   "metadata": {},
   "outputs": [],
   "source": [
    "# Import the OneHotEncoder class from scikit-learn\n",
    "\n",
    "heart['heart_disease'] = heart['heart_disease'].map({'Yes':1, 'No':0})\n",
    "\n",
    "\n"
   ]
  },
  {
   "cell_type": "code",
   "execution_count": 13,
   "id": "68672f91-57c8-4741-aea2-03c11147662f",
   "metadata": {},
   "outputs": [],
   "source": [
    "# Save to a CSV file in the current notebook folder\n",
    "heart.to_csv(\"processed_data.csv\", index=False)\n"
   ]
  },
  {
   "cell_type": "code",
   "execution_count": 14,
   "id": "a05415b2-8f81-4fe2-9953-39a543645e37",
   "metadata": {},
   "outputs": [
    {
     "data": {
      "text/html": [
       "<a href='processed_data.csv' target='_blank'>processed_data.csv</a><br>"
      ],
      "text/plain": [
       "/Users/ronak/Desktop/ML Projects/processed_data.csv"
      ]
     },
     "execution_count": 14,
     "metadata": {},
     "output_type": "execute_result"
    }
   ],
   "source": [
    "from IPython.display import FileLink\n",
    "\n",
    "# Create a clickable download link\n",
    "FileLink(\"processed_data.csv\")\n"
   ]
  },
  {
   "cell_type": "code",
   "execution_count": 13,
   "id": "5996a25e-2041-4c9b-8633-cbc3e168ccdd",
   "metadata": {},
   "outputs": [],
   "source": [
    "# Separate target\n",
    "y = heart[\"heart_disease\"]   # target column\n",
    "X = heart.drop(columns=[\"heart_disease\"])   # features only\n",
    "\n",
    "# Identify feature types\n",
    "num_features = X.select_dtypes(exclude=\"object\").columns\n",
    "cat_features = X.select_dtypes(include=\"object\").columns\n",
    "\n",
    "from sklearn.preprocessing import OneHotEncoder, StandardScaler\n",
    "from sklearn.compose import ColumnTransformer\n",
    "\n",
    "# Transformers\n",
    "numeric_transformer = StandardScaler()\n",
    "oh_transformer = OneHotEncoder(handle_unknown=\"ignore\", sparse_output=False)\n",
    "\n",
    "# ColumnTransformer (only applied on features, not target!)\n",
    "preprocessor = ColumnTransformer(\n",
    "    transformers=[\n",
    "        (\"num\", numeric_transformer, num_features),\n",
    "        (\"cat\", oh_transformer, cat_features),\n",
    "    ]\n",
    ")\n",
    "\n",
    "# Transform features\n",
    "X= preprocessor.fit_transform(X)\n"
   ]
  },
  {
   "cell_type": "code",
   "execution_count": 14,
   "id": "6b8f88c5-3e5c-475e-a27b-3abf390a4482",
   "metadata": {},
   "outputs": [],
   "source": [
    "from imblearn.over_sampling import SMOTE\n",
    "smote = SMOTE(random_state=42)\n",
    "X_balanced, y_balanced = smote.fit_resample(X, y)"
   ]
  },
  {
   "cell_type": "code",
   "execution_count": 15,
   "id": "ef515e18-677e-49ab-9cb1-96f08a77ec17",
   "metadata": {},
   "outputs": [],
   "source": [
    "from sklearn.model_selection import train_test_split\n",
    "# Splitting the data into training and testing sets for diabetes balanced\n",
    "\n",
    "X_train, X_test, y_train, y_test = train_test_split(X_balanced, y_balanced, test_size=0.3, random_state=42)"
   ]
  },
  {
   "cell_type": "code",
   "execution_count": 16,
   "id": "d58f5d35-fc3e-4030-bab0-8eb0770e7e01",
   "metadata": {},
   "outputs": [],
   "source": [
    "from sklearn.preprocessing import StandardScaler\n",
    "scaler_d = StandardScaler()\n",
    "X_train_scaled = scaler_d.fit_transform(X_train)\n",
    "X_test_scaled = scaler_d.transform(X_test)"
   ]
  },
  {
   "cell_type": "code",
   "execution_count": 17,
   "id": "85643992-3a36-46a8-9c15-b4cd11671487",
   "metadata": {},
   "outputs": [],
   "source": [
    "# Create the models\n",
    "from sklearn.linear_model import LogisticRegression\n",
    "from sklearn.ensemble import RandomForestClassifier\n",
    "lr_d = LogisticRegression()\n",
    "rf_d = RandomForestClassifier()\n",
    "\n",
    "# Fit the models\n",
    "\n",
    "lr_d.fit(X_train_scaled, y_train)\n",
    "rf_d.fit(X_train_scaled, y_train)\n",
    "\n",
    "# Make predictions\n",
    "\n",
    "lr_pred_d = lr_d.predict(X_test_scaled)\n",
    "rf_pred_d = rf_d.predict(X_test_scaled)"
   ]
  },
  {
   "cell_type": "code",
   "execution_count": 18,
   "id": "9c18d15d-bd05-40ed-ae01-64fe08902abd",
   "metadata": {},
   "outputs": [
    {
     "name": "stdout",
     "output_type": "stream",
     "text": [
      "======================================== Logistic regression report: ============================================= \n",
      "\n",
      "              precision    recall  f1-score   support\n",
      "\n",
      "           0       0.79      0.73      0.76     85071\n",
      "           1       0.75      0.81      0.78     85259\n",
      "\n",
      "    accuracy                           0.77    170330\n",
      "   macro avg       0.77      0.77      0.77    170330\n",
      "weighted avg       0.77      0.77      0.77    170330\n",
      "\n",
      "======================================== Random forest report: ============================================= \n",
      "\n",
      "              precision    recall  f1-score   support\n",
      "\n",
      "           0       0.95      0.96      0.95     85071\n",
      "           1       0.96      0.95      0.95     85259\n",
      "\n",
      "    accuracy                           0.95    170330\n",
      "   macro avg       0.95      0.95      0.95    170330\n",
      "weighted avg       0.95      0.95      0.95    170330\n",
      "\n"
     ]
    }
   ],
   "source": [
    "from sklearn.metrics import classification_report, roc_auc_score\n",
    "lr_d_report = classification_report(y_test, lr_pred_d)\n",
    "\n",
    "rf_d_report = classification_report(y_test, rf_pred_d)\n",
    "\n",
    "\n",
    "print(\"=\"*40, \"Logistic regression report:\", \"=\"*45, '\\n')\n",
    "print(lr_d_report)\n",
    "\n",
    "\n",
    "\n",
    "print(\"=\"*40, \"Random forest report:\", \"=\"*45, '\\n')\n",
    "print(rf_d_report)\n"
   ]
  }
 ],
 "metadata": {
  "kernelspec": {
   "display_name": "Python [conda env:base] *",
   "language": "python",
   "name": "conda-base-py"
  },
  "language_info": {
   "codemirror_mode": {
    "name": "ipython",
    "version": 3
   },
   "file_extension": ".py",
   "mimetype": "text/x-python",
   "name": "python",
   "nbconvert_exporter": "python",
   "pygments_lexer": "ipython3",
   "version": "3.12.2"
  }
 },
 "nbformat": 4,
 "nbformat_minor": 5
}
