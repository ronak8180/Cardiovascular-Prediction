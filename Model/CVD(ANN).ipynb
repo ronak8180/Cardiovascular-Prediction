{
 "cells": [
  {
   "cell_type": "code",
   "execution_count": 1,
   "id": "33bec6f4-7e53-4eb3-8f29-3462d2f08eae",
   "metadata": {},
   "outputs": [
    {
     "name": "stdout",
     "output_type": "stream",
     "text": [
      "Requirement already satisfied: imblearn in /opt/anaconda3/lib/python3.12/site-packages (0.0)\n",
      "Requirement already satisfied: imbalanced-learn in /opt/anaconda3/lib/python3.12/site-packages (from imblearn) (0.12.3)\n",
      "Requirement already satisfied: numpy>=1.17.3 in /opt/anaconda3/lib/python3.12/site-packages (from imbalanced-learn->imblearn) (1.26.4)\n",
      "Requirement already satisfied: scipy>=1.5.0 in /opt/anaconda3/lib/python3.12/site-packages (from imbalanced-learn->imblearn) (1.13.1)\n",
      "Requirement already satisfied: scikit-learn>=1.0.2 in /opt/anaconda3/lib/python3.12/site-packages (from imbalanced-learn->imblearn) (1.5.1)\n",
      "Requirement already satisfied: joblib>=1.1.1 in /opt/anaconda3/lib/python3.12/site-packages (from imbalanced-learn->imblearn) (1.4.2)\n",
      "Requirement already satisfied: threadpoolctl>=2.0.0 in /opt/anaconda3/lib/python3.12/site-packages (from imbalanced-learn->imblearn) (3.5.0)\n"
     ]
    }
   ],
   "source": [
    "import pandas as pd\n",
    "!pip install imblearn"
   ]
  },
  {
   "cell_type": "code",
   "execution_count": 2,
   "id": "fffa1b9d-ffb0-466a-8fb6-e72c39fa8201",
   "metadata": {},
   "outputs": [],
   "source": [
    "heart=pd.read_csv(\"/Users/ronak/Library/Containers/com.microsoft.Excel/Data/Downloads/CVD_cleaned 4.csv\")\n"
   ]
  },
  {
   "cell_type": "code",
   "execution_count": 3,
   "id": "325fe2e9-bbfe-4ab6-8f95-491107e0ec56",
   "metadata": {},
   "outputs": [
    {
     "data": {
      "text/plain": [
       "General_Health                  0\n",
       "Checkup                         0\n",
       "Exercise                        0\n",
       "Heart_Disease                   0\n",
       "Skin_Cancer                     0\n",
       "Other_Cancer                    0\n",
       "Depression                      0\n",
       "Diabetes                        0\n",
       "Arthritis                       0\n",
       "Sex                             0\n",
       "Age_Category                    0\n",
       "Height_(cm)                     0\n",
       "Weight_(kg)                     0\n",
       "BMI                             0\n",
       "Smoking_History                 0\n",
       "Alcohol_Consumption             0\n",
       "Fruit_Consumption               0\n",
       "Green_Vegetables_Consumption    0\n",
       "FriedPotato_Consumption         0\n",
       "dtype: int64"
      ]
     },
     "execution_count": 3,
     "metadata": {},
     "output_type": "execute_result"
    }
   ],
   "source": [
    "heart.isnull().sum()"
   ]
  },
  {
   "cell_type": "code",
   "execution_count": 4,
   "id": "a7b253cb-967d-4882-904c-a7b2df923445",
   "metadata": {},
   "outputs": [],
   "source": [
    "# Convering the column names into lower case and replacing the space with an underscore\n",
    "heart.columns = heart.columns.str.lower().str.replace(\" \", \"_\")\n",
    "\n",
    "#Changing the name of a big column\n",
    "\n",
    "heart.rename(columns = {'height_(cm)' : 'height', 'weight_(kg)' : 'weight', 'green_vegetables_consumption' : 'vegetables_consumption', 'friedpotato_consumption' : 'potato_consumption'}, inplace = True)"
   ]
  },
  {
   "cell_type": "code",
   "execution_count": 5,
   "id": "808e9dca-070a-41db-ba99-71390375e57b",
   "metadata": {},
   "outputs": [],
   "source": [
    "heart['checkup'] = heart['checkup'].replace('Within the past 2 years', 'Past 2 years')\n",
    "heart['checkup'] = heart['checkup'].replace('Within the past year', 'Past 1 year')\n",
    "heart['checkup'] = heart['checkup'].replace('Within the past 5 years', 'Past 5 years')\n",
    "heart['checkup'] = heart['checkup'].replace('5 or more years ago', 'More than 5 years')\n",
    "\n",
    "\n",
    "heart['diabetes'] = heart['diabetes'].replace('No, pre-diabetes or borderline diabetes', 'No Pre Diabetes')\n",
    "heart['diabetes'] = heart['diabetes'].replace('Yes, but female told only during pregnancy', 'Only during pregnancy')\n",
    "\n",
    "heart['age_category'] = heart['age_category'].replace('18-24', 'Young')\n",
    "heart['age_category'] = heart['age_category'].replace('25-29', 'Adult')\n",
    "heart['age_category'] = heart['age_category'].replace('30-34', 'Adult')\n",
    "heart['age_category'] = heart['age_category'].replace('35-39', 'Adult')\n",
    "heart['age_category'] = heart['age_category'].replace('40-44', 'Mid-Aged')\n",
    "heart['age_category'] = heart['age_category'].replace('45-49', 'Mid-Aged')\n",
    "heart['age_category'] = heart['age_category'].replace('50-54', 'Mid-Aged')\n",
    "heart['age_category'] = heart['age_category'].replace('55-59', 'Senior-Adult')\n",
    "heart['age_category'] = heart['age_category'].replace('60-64', 'Senior-Adult')\n",
    "heart['age_category'] = heart['age_category'].replace('65-69', 'Elderly')\n",
    "heart['age_category'] = heart['age_category'].replace('70-74', 'Elderly')\n",
    "heart['age_category'] = heart['age_category'].replace('75-79', 'Elderly')\n",
    "heart['age_category'] = heart['age_category'].replace('80+', 'Elderly')"
   ]
  },
  {
   "cell_type": "code",
   "execution_count": 6,
   "id": "542d8b01-d72a-4d08-802d-6ff7ffee5799",
   "metadata": {},
   "outputs": [
    {
     "name": "stdout",
     "output_type": "stream",
     "text": [
      "<class 'pandas.core.frame.DataFrame'>\n",
      "RangeIndex: 308854 entries, 0 to 308853\n",
      "Data columns (total 19 columns):\n",
      " #   Column                  Non-Null Count   Dtype  \n",
      "---  ------                  --------------   -----  \n",
      " 0   general_health          308854 non-null  object \n",
      " 1   checkup                 308854 non-null  object \n",
      " 2   exercise                308854 non-null  object \n",
      " 3   heart_disease           308854 non-null  object \n",
      " 4   skin_cancer             308854 non-null  object \n",
      " 5   other_cancer            308854 non-null  object \n",
      " 6   depression              308854 non-null  object \n",
      " 7   diabetes                308854 non-null  object \n",
      " 8   arthritis               308854 non-null  object \n",
      " 9   sex                     308854 non-null  object \n",
      " 10  age_category            308854 non-null  object \n",
      " 11  height                  308854 non-null  float64\n",
      " 12  weight                  308854 non-null  float64\n",
      " 13  bmi                     308854 non-null  float64\n",
      " 14  smoking_history         308854 non-null  object \n",
      " 15  alcohol_consumption     308854 non-null  float64\n",
      " 16  fruit_consumption       308854 non-null  float64\n",
      " 17  vegetables_consumption  308854 non-null  float64\n",
      " 18  potato_consumption      308854 non-null  float64\n",
      "dtypes: float64(7), object(12)\n",
      "memory usage: 44.8+ MB\n"
     ]
    }
   ],
   "source": [
    "heart.info()"
   ]
  },
  {
   "cell_type": "code",
   "execution_count": 7,
   "id": "868c2634-3395-4027-bf23-01146ef8a0ea",
   "metadata": {},
   "outputs": [],
   "source": [
    "col = ['alcohol_consumption', 'fruit_consumption', 'vegetables_consumption', 'potato_consumption']\n",
    "\n",
    "for i in col:\n",
    "    heart[i] = heart[i].astype(int)"
   ]
  },
  {
   "cell_type": "code",
   "execution_count": 8,
   "id": "3aa4ad74-9280-43b5-a17d-1f0611110946",
   "metadata": {},
   "outputs": [],
   "source": [
    "# Define BMI ranges and labels for each group\n",
    "bmi_bins = [12.02, 18.3, 26.85, 31.58, 37.8, 100]\n",
    "bmi_labels = ['Underweight', 'Normal weight', 'Overweight', 'Obese I', 'Obese II']\n",
    "heart['bmi_group'] = pd.cut(heart['bmi'], bins=bmi_bins, labels=bmi_labels, right=False)"
   ]
  },
  {
   "cell_type": "code",
   "execution_count": 9,
   "id": "50c4e9f4-7560-4f44-9a8c-3365a3a11a2a",
   "metadata": {},
   "outputs": [],
   "source": [
    "column_to_move = heart.pop('bmi_group')\n",
    "heart.insert(14, 'bmi_group', column_to_move)"
   ]
  },
  {
   "cell_type": "code",
   "execution_count": 10,
   "id": "317568e9-b951-451c-a1c4-f4e2076f8928",
   "metadata": {},
   "outputs": [],
   "source": [
    "heart['bmi_group'] = heart['bmi_group'].astype('object')"
   ]
  },
  {
   "cell_type": "code",
   "execution_count": 11,
   "id": "85a1e5c5-b60d-4328-aa4f-e4f92086b0c0",
   "metadata": {},
   "outputs": [],
   "source": [
    "# Import the OneHotEncoder class from scikit-learn\n",
    "from sklearn.preprocessing import OneHotEncoder\n",
    "heart['heart_disease'] = heart['heart_disease'].map({'Yes':1, 'No':0})\n",
    "cat=['sex', 'smoking_history']\n",
    "\n",
    "OH_Encoder = OneHotEncoder(handle_unknown='ignore',  sparse_output=False)\n",
    "OH = OH_Encoder.fit_transform(heart[cat])\n",
    "cols = OH_Encoder.get_feature_names_out(cat)\n",
    "OH = pd.DataFrame(OH, columns=cols)\n",
    "heart = heart.drop(cat,axis=1)\n",
    "heart = pd.concat([heart, OH], axis =1) "
   ]
  },
  {
   "cell_type": "code",
   "execution_count": 12,
   "id": "0a756374-910c-43dc-92ca-d60c29ad628b",
   "metadata": {},
   "outputs": [],
   "source": [
    "from sklearn.preprocessing import LabelEncoder\n",
    "categorical_columns = ['general_health', 'checkup', 'exercise', 'skin_cancer', 'other_cancer', 'depression', 'diabetes', 'arthritis', 'age_category', 'bmi_group']\n",
    "\n",
    "# Initialize LabelEncoder\n",
    "\n",
    "label_encoder = LabelEncoder()\n",
    "\n",
    "# Apply label encoding to each ordinal categorical column\n",
    "\n",
    "for col in categorical_columns:\n",
    "    heart[col] = label_encoder.fit_transform(heart[col])"
   ]
  },
  {
   "cell_type": "code",
   "execution_count": 13,
   "id": "2d4a9e37-3664-4457-a331-d4587499c9a0",
   "metadata": {},
   "outputs": [
    {
     "name": "stdout",
     "output_type": "stream",
     "text": [
      "<class 'pandas.core.frame.DataFrame'>\n",
      "RangeIndex: 308854 entries, 0 to 308853\n",
      "Data columns (total 22 columns):\n",
      " #   Column                  Non-Null Count   Dtype  \n",
      "---  ------                  --------------   -----  \n",
      " 0   general_health          308854 non-null  int64  \n",
      " 1   checkup                 308854 non-null  int64  \n",
      " 2   exercise                308854 non-null  int64  \n",
      " 3   heart_disease           308854 non-null  int64  \n",
      " 4   skin_cancer             308854 non-null  int64  \n",
      " 5   other_cancer            308854 non-null  int64  \n",
      " 6   depression              308854 non-null  int64  \n",
      " 7   diabetes                308854 non-null  int64  \n",
      " 8   arthritis               308854 non-null  int64  \n",
      " 9   age_category            308854 non-null  int64  \n",
      " 10  height                  308854 non-null  float64\n",
      " 11  weight                  308854 non-null  float64\n",
      " 12  bmi                     308854 non-null  float64\n",
      " 13  bmi_group               308854 non-null  int64  \n",
      " 14  alcohol_consumption     308854 non-null  int64  \n",
      " 15  fruit_consumption       308854 non-null  int64  \n",
      " 16  vegetables_consumption  308854 non-null  int64  \n",
      " 17  potato_consumption      308854 non-null  int64  \n",
      " 18  sex_Female              308854 non-null  float64\n",
      " 19  sex_Male                308854 non-null  float64\n",
      " 20  smoking_history_No      308854 non-null  float64\n",
      " 21  smoking_history_Yes     308854 non-null  float64\n",
      "dtypes: float64(7), int64(15)\n",
      "memory usage: 51.8 MB\n"
     ]
    }
   ],
   "source": [
    "heart.info()"
   ]
  },
  {
   "cell_type": "code",
   "execution_count": 14,
   "id": "a8d9719b-7f6d-4fb4-8346-11c6ead58a80",
   "metadata": {},
   "outputs": [
    {
     "data": {
      "text/plain": [
       "heart_disease\n",
       "0    283883\n",
       "1     24971\n",
       "Name: count, dtype: int64"
      ]
     },
     "execution_count": 14,
     "metadata": {},
     "output_type": "execute_result"
    }
   ],
   "source": [
    "heart[\"heart_disease\"].value_counts()"
   ]
  },
  {
   "cell_type": "code",
   "execution_count": 15,
   "id": "12ffde63-b707-412f-a18e-e8fce428c5c3",
   "metadata": {},
   "outputs": [],
   "source": [
    "\n",
    "X = heart.drop(\"heart_disease\", axis = 1)\n",
    "y = heart['heart_disease']"
   ]
  },
  {
   "cell_type": "code",
   "execution_count": 16,
   "id": "6ec0037b-a1f5-4eff-9652-dd84ba308828",
   "metadata": {},
   "outputs": [],
   "source": [
    "from imblearn.over_sampling import SMOTE\n",
    "smote = SMOTE(random_state=42)\n",
    "X_balanced, y_balanced = smote.fit_resample(X, y)"
   ]
  },
  {
   "cell_type": "code",
   "execution_count": 17,
   "id": "3a5cb2a2-33df-4c38-8973-668e921837fc",
   "metadata": {},
   "outputs": [
    {
     "name": "stdout",
     "output_type": "stream",
     "text": [
      "Before SMOTE: Counter({0: 283883, 1: 24971})\n",
      "After SMOTE: Counter({0: 283883, 1: 283883})\n",
      "\n",
      "Class distribution before SMOTE:\n",
      " heart_disease\n",
      "0    283883\n",
      "1     24971\n",
      "Name: count, dtype: int64\n",
      "\n",
      "Class distribution after SMOTE:\n",
      " heart_disease\n",
      "0    283883\n",
      "1    283883\n",
      "Name: count, dtype: int64\n"
     ]
    }
   ],
   "source": [
    "from collections import Counter\n",
    "print(\"Before SMOTE:\", Counter(y))\n",
    "\n",
    "# After SMOTE\n",
    "print(\"After SMOTE:\", Counter(y_balanced))\n",
    "\n",
    "# Convert to DataFrame for better visualization\n",
    "before = pd.Series(y).value_counts()\n",
    "after = pd.Series(y_balanced).value_counts()\n",
    "\n",
    "print(\"\\nClass distribution before SMOTE:\\n\", before)\n",
    "print(\"\\nClass distribution after SMOTE:\\n\", after)"
   ]
  },
  {
   "cell_type": "code",
   "execution_count": 18,
   "id": "d079ba79-2892-4198-b04f-4b27a8156f4d",
   "metadata": {},
   "outputs": [],
   "source": [
    "from sklearn.model_selection import train_test_split\n",
    "# Splitting the data into training and testing sets for diabetes balanced\n",
    "\n",
    "X_train, X_test, y_train, y_test = train_test_split(X_balanced, y_balanced, test_size=0.3, random_state=42)"
   ]
  },
  {
   "cell_type": "code",
   "execution_count": 19,
   "id": "1ef7de2f-b11f-4e2c-8330-705de3d111c9",
   "metadata": {},
   "outputs": [],
   "source": [
    "from sklearn.preprocessing import StandardScaler\n",
    "scaler_d = StandardScaler()\n",
    "X_train_scaled = scaler_d.fit_transform(X_train)\n",
    "X_test_scaled = scaler_d.transform(X_test)"
   ]
  },
  {
   "cell_type": "code",
   "execution_count": 20,
   "id": "600b26e1-bd3d-45c9-a504-83b580a8cbaa",
   "metadata": {},
   "outputs": [
    {
     "name": "stderr",
     "output_type": "stream",
     "text": [
      "/opt/anaconda3/lib/python3.12/site-packages/keras/src/layers/core/dense.py:92: UserWarning: Do not pass an `input_shape`/`input_dim` argument to a layer. When using Sequential models, prefer using an `Input(shape)` object as the first layer in the model instead.\n",
      "  super().__init__(activity_regularizer=activity_regularizer, **kwargs)\n"
     ]
    }
   ],
   "source": [
    "import tensorflow as tf\n",
    "from tensorflow.keras.models import Sequential\n",
    "from tensorflow.keras.layers import Dense, Dropout, BatchNormalization\n",
    "from tensorflow.keras.callbacks import EarlyStopping, ReduceLROnPlateau\n",
    "from sklearn.metrics import accuracy_score, f1_score, roc_auc_score\n",
    "\n",
    "# Build Improved ANN\n",
    "ann = Sequential([\n",
    "    Dense(128, activation='relu', input_shape=(X_train_scaled.shape[1],)),\n",
    "    BatchNormalization(),\n",
    "    Dropout(0.3),\n",
    "\n",
    "    Dense(64, activation='relu'),\n",
    "    BatchNormalization(),\n",
    "    Dropout(0.3),\n",
    "\n",
    "    Dense(32, activation='relu'),\n",
    "    Dropout(0.2),\n",
    "\n",
    "    Dense(1, activation='sigmoid')\n",
    "])\n"
   ]
  },
  {
   "cell_type": "code",
   "execution_count": 21,
   "id": "ec394f35-94c5-413a-afe7-030daca8d2ff",
   "metadata": {},
   "outputs": [],
   "source": [
    "# Compile model\n",
    "ann.compile(optimizer=tf.keras.optimizers.Adam(learning_rate=0.001),\n",
    "            loss='binary_crossentropy',\n",
    "            metrics=['accuracy'])\n"
   ]
  },
  {
   "cell_type": "code",
   "execution_count": 22,
   "id": "d8dab9df-f17d-486c-8abf-c8bef42a699f",
   "metadata": {},
   "outputs": [],
   "source": []
  },
  {
   "cell_type": "code",
   "execution_count": 24,
   "id": "7460f7bc-54ab-406c-98d7-29fdfe2374db",
   "metadata": {
    "scrolled": true
   },
   "outputs": [
    {
     "name": "stdout",
     "output_type": "stream",
     "text": [
      "Epoch 1/30\n",
      "\u001b[1m9936/9936\u001b[0m \u001b[32m━━━━━━━━━━━━━━━━━━━━\u001b[0m\u001b[37m\u001b[0m \u001b[1m45s\u001b[0m 5ms/step - accuracy: 0.8699 - loss: 0.2916 - val_accuracy: 0.8757 - val_loss: 0.2750\n",
      "Epoch 2/30\n",
      "\u001b[1m9936/9936\u001b[0m \u001b[32m━━━━━━━━━━━━━━━━━━━━\u001b[0m\u001b[37m\u001b[0m \u001b[1m86s\u001b[0m 5ms/step - accuracy: 0.8704 - loss: 0.2906 - val_accuracy: 0.8757 - val_loss: 0.2750\n",
      "Epoch 3/30\n",
      "\u001b[1m9936/9936\u001b[0m \u001b[32m━━━━━━━━━━━━━━━━━━━━\u001b[0m\u001b[37m\u001b[0m \u001b[1m80s\u001b[0m 5ms/step - accuracy: 0.8700 - loss: 0.2910 - val_accuracy: 0.8757 - val_loss: 0.2750\n",
      "Epoch 4/30\n",
      "\u001b[1m9936/9936\u001b[0m \u001b[32m━━━━━━━━━━━━━━━━━━━━\u001b[0m\u001b[37m\u001b[0m \u001b[1m50s\u001b[0m 5ms/step - accuracy: 0.8704 - loss: 0.2915 - val_accuracy: 0.8758 - val_loss: 0.2750\n",
      "Epoch 5/30\n",
      "\u001b[1m9936/9936\u001b[0m \u001b[32m━━━━━━━━━━━━━━━━━━━━\u001b[0m\u001b[37m\u001b[0m \u001b[1m81s\u001b[0m 5ms/step - accuracy: 0.8699 - loss: 0.2908 - val_accuracy: 0.8759 - val_loss: 0.2748\n",
      "Epoch 6/30\n",
      "\u001b[1m9936/9936\u001b[0m \u001b[32m━━━━━━━━━━━━━━━━━━━━\u001b[0m\u001b[37m\u001b[0m \u001b[1m51s\u001b[0m 5ms/step - accuracy: 0.8702 - loss: 0.2912 - val_accuracy: 0.8756 - val_loss: 0.2749\n",
      "Epoch 7/30\n",
      "\u001b[1m9936/9936\u001b[0m \u001b[32m━━━━━━━━━━━━━━━━━━━━\u001b[0m\u001b[37m\u001b[0m \u001b[1m91s\u001b[0m 6ms/step - accuracy: 0.8700 - loss: 0.2912 - val_accuracy: 0.8758 - val_loss: 0.2747\n",
      "Epoch 8/30\n",
      "\u001b[1m9936/9936\u001b[0m \u001b[32m━━━━━━━━━━━━━━━━━━━━\u001b[0m\u001b[37m\u001b[0m \u001b[1m74s\u001b[0m 5ms/step - accuracy: 0.8701 - loss: 0.2906 - val_accuracy: 0.8758 - val_loss: 0.2748\n",
      "Epoch 9/30\n",
      "\u001b[1m9936/9936\u001b[0m \u001b[32m━━━━━━━━━━━━━━━━━━━━\u001b[0m\u001b[37m\u001b[0m \u001b[1m78s\u001b[0m 5ms/step - accuracy: 0.8701 - loss: 0.2912 - val_accuracy: 0.8758 - val_loss: 0.2748\n",
      "Epoch 10/30\n",
      "\u001b[1m9936/9936\u001b[0m \u001b[32m━━━━━━━━━━━━━━━━━━━━\u001b[0m\u001b[37m\u001b[0m \u001b[1m53s\u001b[0m 5ms/step - accuracy: 0.8698 - loss: 0.2914 - val_accuracy: 0.8756 - val_loss: 0.2749\n",
      "Epoch 11/30\n",
      "\u001b[1m9936/9936\u001b[0m \u001b[32m━━━━━━━━━━━━━━━━━━━━\u001b[0m\u001b[37m\u001b[0m \u001b[1m50s\u001b[0m 5ms/step - accuracy: 0.8699 - loss: 0.2913 - val_accuracy: 0.8756 - val_loss: 0.2751\n",
      "Epoch 12/30\n",
      "\u001b[1m9936/9936\u001b[0m \u001b[32m━━━━━━━━━━━━━━━━━━━━\u001b[0m\u001b[37m\u001b[0m \u001b[1m82s\u001b[0m 5ms/step - accuracy: 0.8698 - loss: 0.2910 - val_accuracy: 0.8757 - val_loss: 0.2748\n",
      "Epoch 13/30\n",
      "\u001b[1m9936/9936\u001b[0m \u001b[32m━━━━━━━━━━━━━━━━━━━━\u001b[0m\u001b[37m\u001b[0m \u001b[1m85s\u001b[0m 5ms/step - accuracy: 0.8701 - loss: 0.2913 - val_accuracy: 0.8757 - val_loss: 0.2750\n",
      "Epoch 14/30\n",
      "\u001b[1m9936/9936\u001b[0m \u001b[32m━━━━━━━━━━━━━━━━━━━━\u001b[0m\u001b[37m\u001b[0m \u001b[1m52s\u001b[0m 5ms/step - accuracy: 0.8697 - loss: 0.2911 - val_accuracy: 0.8758 - val_loss: 0.2751\n",
      "Epoch 15/30\n",
      "\u001b[1m9936/9936\u001b[0m \u001b[32m━━━━━━━━━━━━━━━━━━━━\u001b[0m\u001b[37m\u001b[0m \u001b[1m54s\u001b[0m 5ms/step - accuracy: 0.8705 - loss: 0.2906 - val_accuracy: 0.8758 - val_loss: 0.2747\n",
      "Epoch 16/30\n",
      "\u001b[1m9936/9936\u001b[0m \u001b[32m━━━━━━━━━━━━━━━━━━━━\u001b[0m\u001b[37m\u001b[0m \u001b[1m81s\u001b[0m 5ms/step - accuracy: 0.8705 - loss: 0.2908 - val_accuracy: 0.8758 - val_loss: 0.2747\n",
      "Epoch 17/30\n",
      "\u001b[1m9936/9936\u001b[0m \u001b[32m━━━━━━━━━━━━━━━━━━━━\u001b[0m\u001b[37m\u001b[0m \u001b[1m53s\u001b[0m 5ms/step - accuracy: 0.8698 - loss: 0.2912 - val_accuracy: 0.8756 - val_loss: 0.2750\n",
      "Epoch 18/30\n",
      "\u001b[1m9936/9936\u001b[0m \u001b[32m━━━━━━━━━━━━━━━━━━━━\u001b[0m\u001b[37m\u001b[0m \u001b[1m89s\u001b[0m 6ms/step - accuracy: 0.8699 - loss: 0.2908 - val_accuracy: 0.8757 - val_loss: 0.2748\n",
      "Epoch 19/30\n",
      "\u001b[1m9936/9936\u001b[0m \u001b[32m━━━━━━━━━━━━━━━━━━━━\u001b[0m\u001b[37m\u001b[0m \u001b[1m55s\u001b[0m 5ms/step - accuracy: 0.8707 - loss: 0.2904 - val_accuracy: 0.8759 - val_loss: 0.2749\n",
      "Epoch 20/30\n",
      "\u001b[1m9936/9936\u001b[0m \u001b[32m━━━━━━━━━━━━━━━━━━━━\u001b[0m\u001b[37m\u001b[0m \u001b[1m82s\u001b[0m 6ms/step - accuracy: 0.8701 - loss: 0.2910 - val_accuracy: 0.8758 - val_loss: 0.2750\n",
      "Epoch 21/30\n",
      "\u001b[1m9936/9936\u001b[0m \u001b[32m━━━━━━━━━━━━━━━━━━━━\u001b[0m\u001b[37m\u001b[0m \u001b[1m76s\u001b[0m 5ms/step - accuracy: 0.8702 - loss: 0.2906 - val_accuracy: 0.8758 - val_loss: 0.2747\n",
      "Epoch 22/30\n",
      "\u001b[1m9936/9936\u001b[0m \u001b[32m━━━━━━━━━━━━━━━━━━━━\u001b[0m\u001b[37m\u001b[0m \u001b[1m49s\u001b[0m 5ms/step - accuracy: 0.8700 - loss: 0.2909 - val_accuracy: 0.8758 - val_loss: 0.2746\n",
      "Epoch 23/30\n",
      "\u001b[1m9936/9936\u001b[0m \u001b[32m━━━━━━━━━━━━━━━━━━━━\u001b[0m\u001b[37m\u001b[0m \u001b[1m79s\u001b[0m 5ms/step - accuracy: 0.8701 - loss: 0.2908 - val_accuracy: 0.8757 - val_loss: 0.2747\n",
      "Epoch 24/30\n",
      "\u001b[1m9936/9936\u001b[0m \u001b[32m━━━━━━━━━━━━━━━━━━━━\u001b[0m\u001b[37m\u001b[0m \u001b[1m79s\u001b[0m 4ms/step - accuracy: 0.8700 - loss: 0.2913 - val_accuracy: 0.8756 - val_loss: 0.2748\n",
      "Epoch 25/30\n",
      "\u001b[1m9936/9936\u001b[0m \u001b[32m━━━━━━━━━━━━━━━━━━━━\u001b[0m\u001b[37m\u001b[0m \u001b[1m82s\u001b[0m 4ms/step - accuracy: 0.8702 - loss: 0.2903 - val_accuracy: 0.8756 - val_loss: 0.2746\n",
      "Epoch 26/30\n",
      "\u001b[1m9936/9936\u001b[0m \u001b[32m━━━━━━━━━━━━━━━━━━━━\u001b[0m\u001b[37m\u001b[0m \u001b[1m81s\u001b[0m 4ms/step - accuracy: 0.8701 - loss: 0.2905 - val_accuracy: 0.8757 - val_loss: 0.2748\n",
      "Epoch 27/30\n",
      "\u001b[1m9936/9936\u001b[0m \u001b[32m━━━━━━━━━━━━━━━━━━━━\u001b[0m\u001b[37m\u001b[0m \u001b[1m45s\u001b[0m 5ms/step - accuracy: 0.8704 - loss: 0.2905 - val_accuracy: 0.8759 - val_loss: 0.2747\n",
      "Epoch 28/30\n",
      "\u001b[1m9936/9936\u001b[0m \u001b[32m━━━━━━━━━━━━━━━━━━━━\u001b[0m\u001b[37m\u001b[0m \u001b[1m45s\u001b[0m 5ms/step - accuracy: 0.8707 - loss: 0.2908 - val_accuracy: 0.8757 - val_loss: 0.2746\n",
      "Epoch 29/30\n",
      "\u001b[1m9936/9936\u001b[0m \u001b[32m━━━━━━━━━━━━━━━━━━━━\u001b[0m\u001b[37m\u001b[0m \u001b[1m45s\u001b[0m 5ms/step - accuracy: 0.8704 - loss: 0.2912 - val_accuracy: 0.8759 - val_loss: 0.2747\n",
      "Epoch 30/30\n",
      "\u001b[1m9936/9936\u001b[0m \u001b[32m━━━━━━━━━━━━━━━━━━━━\u001b[0m\u001b[37m\u001b[0m \u001b[1m849s\u001b[0m 82ms/step - accuracy: 0.8704 - loss: 0.2908 - val_accuracy: 0.8758 - val_loss: 0.2746\n"
     ]
    }
   ],
   "source": [
    "# Train model\n",
    "history = ann.fit(X_train_scaled, y_train,\n",
    "                  validation_split=0.2,\n",
    "                  epochs=30,\n",
    "                  batch_size=32,\n",
    "                  verbose=1)\n",
    "\n"
   ]
  },
  {
   "cell_type": "code",
   "execution_count": 25,
   "id": "e4f9d699-e172-4b03-a574-e23e2c80ebf6",
   "metadata": {},
   "outputs": [
    {
     "name": "stdout",
     "output_type": "stream",
     "text": [
      "\u001b[1m5323/5323\u001b[0m \u001b[32m━━━━━━━━━━━━━━━━━━━━\u001b[0m\u001b[37m\u001b[0m \u001b[1m10s\u001b[0m 2ms/step\n",
      "=== Improved Artificial Neural Network (ANN) ===\n",
      "Accuracy: 0.8776\n",
      "F1-score: 0.8754\n",
      "ROC-AUC: 0.9530\n"
     ]
    }
   ],
   "source": [
    "# Predictions\n",
    "y_pred_prob = ann.predict(X_test_scaled).ravel()\n",
    "y_pred = (y_pred_prob > 0.5).astype(int)\n",
    "\n",
    "# Evaluation\n",
    "acc = accuracy_score(y_test, y_pred)\n",
    "f1 = f1_score(y_test, y_pred)\n",
    "auc = roc_auc_score(y_test, y_pred_prob)\n",
    "\n",
    "print(\"=== Improved Artificial Neural Network (ANN) ===\")\n",
    "print(f\"Accuracy: {acc:.4f}\")\n",
    "print(f\"F1-score: {f1:.4f}\")\n",
    "print(f\"ROC-AUC: {auc:.4f}\")"
   ]
  }
 ],
 "metadata": {
  "kernelspec": {
   "display_name": "Python [conda env:base] *",
   "language": "python",
   "name": "conda-base-py"
  },
  "language_info": {
   "codemirror_mode": {
    "name": "ipython",
    "version": 3
   },
   "file_extension": ".py",
   "mimetype": "text/x-python",
   "name": "python",
   "nbconvert_exporter": "python",
   "pygments_lexer": "ipython3",
   "version": "3.12.7"
  }
 },
 "nbformat": 4,
 "nbformat_minor": 5
}
